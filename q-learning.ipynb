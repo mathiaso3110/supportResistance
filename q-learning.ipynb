{
 "cells": [
  {
   "cell_type": "code",
   "execution_count": 2,
   "metadata": {},
   "outputs": [],
   "source": [
    "import numpy as np\n",
    "import gym\n",
    "import random"
   ]
  },
  {
   "cell_type": "code",
   "execution_count": 3,
   "metadata": {},
   "outputs": [],
   "source": [
    "env = gym.make(\"Taxi-v2\")\n",
    "env = gym.make(\"MountainCar-v0\")\n",
    "env.render()"
   ]
  },
  {
   "cell_type": "code",
   "execution_count": 5,
   "metadata": {
    "collapsed": false
   },
   "outputs": [
    {
     "name": "stdout",
     "output_type": "stream",
     "text": [
      "Action size: 3\nState space Box(2,)\n[-1.2  -0.07]\n[ 0.6   0.07]\n"
     ]
    }
   ],
   "source": [
    "action_size = env.action_space.n\n",
    "print(\"Action size:\", action_size)\n",
    "\n",
    "state_size = env.observation_space\n",
    "print(\"State space\", state_size)\n",
    "\n",
    "print(env.observation_space.low)\n",
    "print(env.observation_space.high)"
   ]
  },
  {
   "cell_type": "code",
   "execution_count": 6,
   "metadata": {
    "collapsed": false
   },
   "outputs": [
    {
     "name": "stdout",
     "output_type": "stream",
     "text": [
      "[-0.46784398  0.        ]\n7\n"
     ]
    }
   ],
   "source": [
    "def stateToIndex(x):\n",
    "    \n",
    "    if -1.2 <= x <= -1.1:\n",
    "        return 0\n",
    "    elif -1.1 <= x <= -1.0:\n",
    "        return 1\n",
    "    elif -1.0 <= x <= -0.9:\n",
    "        return 2\n",
    "    elif -0.9 <= x <= -0.8:\n",
    "        return 3\n",
    "    elif -0.8 <= x <= -0.7:\n",
    "        return 4\n",
    "    elif -0.7 <= x <= -0.6:\n",
    "        return 5\n",
    "    elif -0.6 <= x <= -0.5:\n",
    "        return 6\n",
    "    elif -0.5 <= x <= -0.4:\n",
    "        return 7\n",
    "    elif -0.4 <= x <= -0.3:\n",
    "        return 8\n",
    "    elif -0.3 <= x <= -0.2:\n",
    "        return 9\n",
    "    elif -0.2 <= x <= -0.1:\n",
    "        return 10\n",
    "    elif -0.1 <= x <= 0.0:\n",
    "        return 11\n",
    "    elif 0.0 <= x <= 0.1:\n",
    "        return 12\n",
    "    elif 0.1 <= x <= 0.2:\n",
    "        return 13\n",
    "    elif 0.2 <= x <= 0.3:\n",
    "        return 14\n",
    "    elif 0.3 <= x <= 0.4:\n",
    "        return 15\n",
    "    elif 0.4 <= x <= 0.5:\n",
    "        return 16\n",
    "    elif 0.5 <= x <= 0.6:\n",
    "        return 17\n",
    "\n",
    "state = env.reset()\n",
    "print(state)\n",
    "print(stateToIndex(state[0]))"
   ]
  },
  {
   "cell_type": "code",
   "execution_count": 7,
   "metadata": {},
   "outputs": [
    {
     "name": "stdout",
     "output_type": "stream",
     "text": [
      "[[ 0.  0.  0.]\n [ 0.  0.  0.]\n [ 0.  0.  0.]\n [ 0.  0.  0.]\n [ 0.  0.  0.]\n [ 0.  0.  0.]\n [ 0.  0.  0.]\n [ 0.  0.  0.]\n [ 0.  0.  0.]\n [ 0.  0.  0.]\n [ 0.  0.  0.]\n [ 0.  0.  0.]\n [ 0.  0.  0.]\n [ 0.  0.  0.]\n [ 0.  0.  0.]\n [ 0.  0.  0.]\n [ 0.  0.  0.]\n [ 0.  0.  0.]]\n"
     ]
    }
   ],
   "source": [
    "qtable = np.zeros((18, action_size))\n",
    "print(qtable)"
   ]
  },
  {
   "cell_type": "code",
   "execution_count": 11,
   "metadata": {
    "collapsed": true
   },
   "outputs": [],
   "source": [
    "total_episodes = 2        # Total episodes\n",
    "learning_rate = 0.8           # Learning rate\n",
    "max_steps = 2               # Max steps per episode\n",
    "gamma = 0.95                  # Discounting rate\n",
    "\n",
    "# Exploration parameters\n",
    "epsilon = 1.0                 # Exploration rate\n",
    "max_epsilon = 1.0             # Exploration probability at start\n",
    "min_epsilon = 0.01            # Minimum exploration probability \n",
    "decay_rate = 0.01             # Exponential decay rate for exploration prob\n"
   ]
  },
  {
   "cell_type": "code",
   "execution_count": 15,
   "metadata": {
    "collapsed": true
   },
   "outputs": [
    {
     "name": "stdout",
     "output_type": "stream",
     "text": [
      "[-0.5339496  0.       ] 1 [ -5.33871984e-01   7.76187257e-05] -1.0\n[ -5.33871984e-01   7.76187257e-05] 0 [-0.53471733 -0.00084534] -1.0\n[-0.52261642  0.        ] 2 [-0.52162379  0.00099263] -1.0\n[-0.52162379  0.00099263] 1 [-0.52064597  0.00097782] -1.0\n[[ 0.  0.  0.]\n [ 0.  0.  0.]\n [ 0.  0.  0.]\n [ 0.  0.  0.]\n [ 3.  3.  3.]\n [ 3.  3.  3.]\n [ 3.  3.  3.]\n [ 3.  3.  3.]\n [ 3.  3.  3.]\n [ 0.  0.  0.]\n [ 0.  0.  0.]\n [ 0.  0.  0.]\n [ 0.  0.  0.]\n [ 0.  0.  0.]\n [ 0.  0.  0.]\n [ 0.  0.  0.]\n [ 0.  0.  0.]\n [ 0.  0.  0.]]\n"
     ]
    }
   ],
   "source": [
    "rewards = []\n",
    "\n",
    "for episode in range(total_episodes):\n",
    "    # State is an int describing the placement of the taxi\n",
    "    state = env.reset()\n",
    "    step = 0\n",
    "    done = False\n",
    "    total_rewards = 0\n",
    "    \n",
    "    if episode % 1000 == 0:\n",
    "        pass\n",
    "        # print(\"Average score at episode \" + str(episode) + \": \" + str(sum(rewards)/total_episodes))\n",
    "    \n",
    "    for step in range(max_steps):\n",
    "        \n",
    "        curr_place = qtable[stateToIndex(state[0]),:]\n",
    "        \n",
    "        exp_exp_tradeoff = random.uniform(0, 1)\n",
    "        \n",
    "        if exp_exp_tradeoff > epsilon:\n",
    "            action = np.argmax(curr_place)\n",
    "        else:\n",
    "            action = env.action_space.sample()\n",
    "            \n",
    "        new_state, reward, done, info = env.step(action)\n",
    "        \n",
    "        print(state, action, new_state, reward)\n",
    "        \n",
    "        qtable[stateToIndex(state[0])][action] = 3\n",
    "        \n",
    "        # qtable[curr_place], action] + learning_rate * (reward + gamma * np.max(curr_place], :]) - curr_place(state[0])], action])\n",
    "        \n",
    "        total_rewards += reward\n",
    "        \n",
    "        state = new_state\n",
    "        \n",
    "        if done:\n",
    "            break\n",
    "    \n",
    "    episode += 1\n",
    "    epsilon = min_epsilon + (max_epsilon - min_epsilon)*np.exp(-decay_rate*episode)\n",
    "    rewards.append(total_rewards)\n",
    "\n",
    "print(qtable)\n",
    "# print(\"Score over time: \" + str(sum(rewards)/total_episodes))\n"
   ]
  },
  {
   "cell_type": "code",
   "execution_count": 13,
   "metadata": {},
   "outputs": [
    {
     "name": "stdout",
     "output_type": "stream",
     "text": [
      "Score over time: -400000.0\n"
     ]
    }
   ],
   "source": [
    "env.reset()\n",
    "\n",
    "\n",
    "for episode in range(5):\n",
    "    state = env.reset()\n",
    "    step = 0\n",
    "    done = False\n",
    "    # print(\"****************************************************\")\n",
    "    # print(\"EPISODE \", episode)\n",
    "\n",
    "    for step in range(max_steps):\n",
    "        # env.render()\n",
    "        # Take the action (index) that have the maximum expected future reward given that state\n",
    "        action = np.argmax(qtable[stateToIndex(state[0]),:])\n",
    "        \n",
    "        new_state, reward, done, info = env.step(action)\n",
    "        \n",
    "        if done:\n",
    "            break\n",
    "        state = new_state\n",
    "env.render(close=True)\n",
    "print(\"Score over time: \" + str(sum(rewards)/5))"
   ]
  },
  {
   "cell_type": "code",
   "execution_count": 4,
   "metadata": {},
   "outputs": [],
   "source": [
    "env.render(close=True)"
   ]
  },
  {
   "cell_type": "code",
   "execution_count": 9,
   "metadata": {},
   "outputs": [],
   "source": [
    ""
   ]
  },
  {
   "cell_type": "code",
   "execution_count": null,
   "metadata": {},
   "outputs": [],
   "source": []
  }
 ],
 "metadata": {
  "kernelspec": {
   "display_name": "Python 2",
   "language": "python",
   "name": "python2"
  },
  "language_info": {
   "codemirror_mode": {
    "name": "ipython",
    "version": 2
   },
   "file_extension": ".py",
   "mimetype": "text/x-python",
   "name": "python",
   "nbconvert_exporter": "python",
   "pygments_lexer": "ipython2",
   "version": "2.7.6"
  }
 },
 "nbformat": 4,
 "nbformat_minor": 0
}
